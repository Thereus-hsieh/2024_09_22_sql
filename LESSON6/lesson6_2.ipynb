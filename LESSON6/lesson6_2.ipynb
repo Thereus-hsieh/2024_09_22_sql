{
 "cells": [
  {
   "cell_type": "code",
   "execution_count": 1,
   "metadata": {},
   "outputs": [
    {
     "name": "stdout",
     "output_type": "stream",
     "text": [
      "Requirement already satisfied: psycopg2-binary in c:\\users\\thereuse\\miniconda3\\envs\\chihllee_sql\\lib\\site-packages (from -r requirements.txt (line 1)) (2.9.10)\n",
      "Requirement already satisfied: streamlit in c:\\users\\thereuse\\miniconda3\\envs\\chihllee_sql\\lib\\site-packages (from -r requirements.txt (line 2)) (1.39.0)\n",
      "Requirement already satisfied: altair<6,>=4.0 in c:\\users\\thereuse\\miniconda3\\envs\\chihllee_sql\\lib\\site-packages (from streamlit->-r requirements.txt (line 2)) (5.4.1)\n",
      "Requirement already satisfied: blinker<2,>=1.0.0 in c:\\users\\thereuse\\miniconda3\\envs\\chihllee_sql\\lib\\site-packages (from streamlit->-r requirements.txt (line 2)) (1.8.2)\n",
      "Requirement already satisfied: cachetools<6,>=4.0 in c:\\users\\thereuse\\miniconda3\\envs\\chihllee_sql\\lib\\site-packages (from streamlit->-r requirements.txt (line 2)) (5.5.0)\n",
      "Requirement already satisfied: click<9,>=7.0 in c:\\users\\thereuse\\miniconda3\\envs\\chihllee_sql\\lib\\site-packages (from streamlit->-r requirements.txt (line 2)) (8.1.7)\n",
      "Requirement already satisfied: numpy<3,>=1.20 in c:\\users\\thereuse\\miniconda3\\envs\\chihllee_sql\\lib\\site-packages (from streamlit->-r requirements.txt (line 2)) (2.1.2)\n",
      "Requirement already satisfied: packaging<25,>=20 in c:\\users\\thereuse\\miniconda3\\envs\\chihllee_sql\\lib\\site-packages (from streamlit->-r requirements.txt (line 2)) (24.1)\n",
      "Requirement already satisfied: pandas<3,>=1.4.0 in c:\\users\\thereuse\\miniconda3\\envs\\chihllee_sql\\lib\\site-packages (from streamlit->-r requirements.txt (line 2)) (2.2.3)\n",
      "Requirement already satisfied: pillow<11,>=7.1.0 in c:\\users\\thereuse\\miniconda3\\envs\\chihllee_sql\\lib\\site-packages (from streamlit->-r requirements.txt (line 2)) (10.4.0)\n",
      "Requirement already satisfied: protobuf<6,>=3.20 in c:\\users\\thereuse\\miniconda3\\envs\\chihllee_sql\\lib\\site-packages (from streamlit->-r requirements.txt (line 2)) (5.28.3)\n",
      "Requirement already satisfied: pyarrow>=7.0 in c:\\users\\thereuse\\miniconda3\\envs\\chihllee_sql\\lib\\site-packages (from streamlit->-r requirements.txt (line 2)) (17.0.0)\n",
      "Requirement already satisfied: requests<3,>=2.27 in c:\\users\\thereuse\\miniconda3\\envs\\chihllee_sql\\lib\\site-packages (from streamlit->-r requirements.txt (line 2)) (2.32.3)\n",
      "Requirement already satisfied: rich<14,>=10.14.0 in c:\\users\\thereuse\\miniconda3\\envs\\chihllee_sql\\lib\\site-packages (from streamlit->-r requirements.txt (line 2)) (13.9.3)\n",
      "Requirement already satisfied: tenacity<10,>=8.1.0 in c:\\users\\thereuse\\miniconda3\\envs\\chihllee_sql\\lib\\site-packages (from streamlit->-r requirements.txt (line 2)) (9.0.0)\n",
      "Requirement already satisfied: toml<2,>=0.10.1 in c:\\users\\thereuse\\miniconda3\\envs\\chihllee_sql\\lib\\site-packages (from streamlit->-r requirements.txt (line 2)) (0.10.2)\n",
      "Requirement already satisfied: typing-extensions<5,>=4.3.0 in c:\\users\\thereuse\\miniconda3\\envs\\chihllee_sql\\lib\\site-packages (from streamlit->-r requirements.txt (line 2)) (4.12.2)\n",
      "Requirement already satisfied: gitpython!=3.1.19,<4,>=3.0.7 in c:\\users\\thereuse\\miniconda3\\envs\\chihllee_sql\\lib\\site-packages (from streamlit->-r requirements.txt (line 2)) (3.1.43)\n",
      "Requirement already satisfied: pydeck<1,>=0.8.0b4 in c:\\users\\thereuse\\miniconda3\\envs\\chihllee_sql\\lib\\site-packages (from streamlit->-r requirements.txt (line 2)) (0.9.1)\n",
      "Requirement already satisfied: tornado<7,>=6.0.3 in c:\\users\\thereuse\\miniconda3\\envs\\chihllee_sql\\lib\\site-packages (from streamlit->-r requirements.txt (line 2)) (6.4.1)\n",
      "Requirement already satisfied: watchdog<6,>=2.1.5 in c:\\users\\thereuse\\miniconda3\\envs\\chihllee_sql\\lib\\site-packages (from streamlit->-r requirements.txt (line 2)) (5.0.3)\n",
      "Requirement already satisfied: jinja2 in c:\\users\\thereuse\\miniconda3\\envs\\chihllee_sql\\lib\\site-packages (from altair<6,>=4.0->streamlit->-r requirements.txt (line 2)) (3.1.4)\n",
      "Requirement already satisfied: jsonschema>=3.0 in c:\\users\\thereuse\\miniconda3\\envs\\chihllee_sql\\lib\\site-packages (from altair<6,>=4.0->streamlit->-r requirements.txt (line 2)) (4.23.0)\n",
      "Requirement already satisfied: narwhals>=1.5.2 in c:\\users\\thereuse\\miniconda3\\envs\\chihllee_sql\\lib\\site-packages (from altair<6,>=4.0->streamlit->-r requirements.txt (line 2)) (1.10.0)\n",
      "Requirement already satisfied: colorama in c:\\users\\thereuse\\miniconda3\\envs\\chihllee_sql\\lib\\site-packages (from click<9,>=7.0->streamlit->-r requirements.txt (line 2)) (0.4.6)\n",
      "Requirement already satisfied: gitdb<5,>=4.0.1 in c:\\users\\thereuse\\miniconda3\\envs\\chihllee_sql\\lib\\site-packages (from gitpython!=3.1.19,<4,>=3.0.7->streamlit->-r requirements.txt (line 2)) (4.0.11)\n",
      "Requirement already satisfied: python-dateutil>=2.8.2 in c:\\users\\thereuse\\miniconda3\\envs\\chihllee_sql\\lib\\site-packages (from pandas<3,>=1.4.0->streamlit->-r requirements.txt (line 2)) (2.9.0)\n",
      "Requirement already satisfied: pytz>=2020.1 in c:\\users\\thereuse\\miniconda3\\envs\\chihllee_sql\\lib\\site-packages (from pandas<3,>=1.4.0->streamlit->-r requirements.txt (line 2)) (2024.2)\n",
      "Requirement already satisfied: tzdata>=2022.7 in c:\\users\\thereuse\\miniconda3\\envs\\chihllee_sql\\lib\\site-packages (from pandas<3,>=1.4.0->streamlit->-r requirements.txt (line 2)) (2024.2)\n",
      "Requirement already satisfied: charset-normalizer<4,>=2 in c:\\users\\thereuse\\miniconda3\\envs\\chihllee_sql\\lib\\site-packages (from requests<3,>=2.27->streamlit->-r requirements.txt (line 2)) (3.4.0)\n",
      "Requirement already satisfied: idna<4,>=2.5 in c:\\users\\thereuse\\miniconda3\\envs\\chihllee_sql\\lib\\site-packages (from requests<3,>=2.27->streamlit->-r requirements.txt (line 2)) (3.10)\n",
      "Requirement already satisfied: urllib3<3,>=1.21.1 in c:\\users\\thereuse\\miniconda3\\envs\\chihllee_sql\\lib\\site-packages (from requests<3,>=2.27->streamlit->-r requirements.txt (line 2)) (2.2.3)\n",
      "Requirement already satisfied: certifi>=2017.4.17 in c:\\users\\thereuse\\miniconda3\\envs\\chihllee_sql\\lib\\site-packages (from requests<3,>=2.27->streamlit->-r requirements.txt (line 2)) (2024.8.30)\n",
      "Requirement already satisfied: markdown-it-py>=2.2.0 in c:\\users\\thereuse\\miniconda3\\envs\\chihllee_sql\\lib\\site-packages (from rich<14,>=10.14.0->streamlit->-r requirements.txt (line 2)) (3.0.0)\n",
      "Requirement already satisfied: pygments<3.0.0,>=2.13.0 in c:\\users\\thereuse\\miniconda3\\envs\\chihllee_sql\\lib\\site-packages (from rich<14,>=10.14.0->streamlit->-r requirements.txt (line 2)) (2.18.0)\n",
      "Requirement already satisfied: smmap<6,>=3.0.1 in c:\\users\\thereuse\\miniconda3\\envs\\chihllee_sql\\lib\\site-packages (from gitdb<5,>=4.0.1->gitpython!=3.1.19,<4,>=3.0.7->streamlit->-r requirements.txt (line 2)) (5.0.1)\n",
      "Requirement already satisfied: MarkupSafe>=2.0 in c:\\users\\thereuse\\miniconda3\\envs\\chihllee_sql\\lib\\site-packages (from jinja2->altair<6,>=4.0->streamlit->-r requirements.txt (line 2)) (3.0.2)\n",
      "Requirement already satisfied: attrs>=22.2.0 in c:\\users\\thereuse\\miniconda3\\envs\\chihllee_sql\\lib\\site-packages (from jsonschema>=3.0->altair<6,>=4.0->streamlit->-r requirements.txt (line 2)) (24.2.0)\n",
      "Requirement already satisfied: jsonschema-specifications>=2023.03.6 in c:\\users\\thereuse\\miniconda3\\envs\\chihllee_sql\\lib\\site-packages (from jsonschema>=3.0->altair<6,>=4.0->streamlit->-r requirements.txt (line 2)) (2024.10.1)\n",
      "Requirement already satisfied: referencing>=0.28.4 in c:\\users\\thereuse\\miniconda3\\envs\\chihllee_sql\\lib\\site-packages (from jsonschema>=3.0->altair<6,>=4.0->streamlit->-r requirements.txt (line 2)) (0.35.1)\n",
      "Requirement already satisfied: rpds-py>=0.7.1 in c:\\users\\thereuse\\miniconda3\\envs\\chihllee_sql\\lib\\site-packages (from jsonschema>=3.0->altair<6,>=4.0->streamlit->-r requirements.txt (line 2)) (0.20.0)\n",
      "Requirement already satisfied: mdurl~=0.1 in c:\\users\\thereuse\\miniconda3\\envs\\chihllee_sql\\lib\\site-packages (from markdown-it-py>=2.2.0->rich<14,>=10.14.0->streamlit->-r requirements.txt (line 2)) (0.1.2)\n",
      "Requirement already satisfied: six>=1.5 in c:\\users\\thereuse\\miniconda3\\envs\\chihllee_sql\\lib\\site-packages (from python-dateutil>=2.8.2->pandas<3,>=1.4.0->streamlit->-r requirements.txt (line 2)) (1.16.0)\n"
     ]
    }
   ],
   "source": [
    "#安裝postgreSQL connection\n",
    "#!pip install psycopg2-binary\n",
    "#透過requirements.txt安裝所有套件\n",
    "!pip install -r requirements.txt"
   ]
  },
  {
   "cell_type": "code",
   "execution_count": null,
   "metadata": {},
   "outputs": [],
   "source": [
    "for row in rows:\n",
    "      print(row[1])\n",
    "      print(row[2])\n",
    "      print(row[4])\n"
   ]
  },
  {
   "cell_type": "markdown",
   "metadata": {},
   "source": [
    "#### tuple\n",
    "暫時的資料\n",
    "可儲存多的值\n",
    "不可新增刪除元素\n",
    "序列,串列資類(for in操作)"
   ]
  },
  {
   "cell_type": "code",
   "execution_count": null,
   "metadata": {},
   "outputs": [],
   "source": [
    "#建立tuple\n",
    "tu1 = (1, 3, 5, 7, 9)\n",
    "print(tu1[0])\n",
    "print(tu1[1])\n",
    "print(tu1[2])\n",
    "print(tu1[3])\n",
    "print(tu1[4])"
   ]
  },
  {
   "cell_type": "code",
   "execution_count": null,
   "metadata": {},
   "outputs": [],
   "source": [
    "for value in tu1:\n",
    "    print(value)"
   ]
  },
  {
   "cell_type": "code",
   "execution_count": null,
   "metadata": {},
   "outputs": [],
   "source": [
    "for letter in 'Hello! World!':\n",
    "    print(letter)"
   ]
  },
  {
   "cell_type": "markdown",
   "metadata": {},
   "source": [
    "#### list\n",
    "\n",
    "可儲存多的值\n",
    "可修改,新增,刪除元素\n",
    "序列,串列資類(for in操作)"
   ]
  },
  {
   "cell_type": "code",
   "execution_count": 15,
   "metadata": {},
   "outputs": [],
   "source": [
    "#建立list\n",
    "ti1 = (2,4,6,8,10)"
   ]
  },
  {
   "cell_type": "code",
   "execution_count": null,
   "metadata": {},
   "outputs": [],
   "source": [
    "for value in ti1:\n",
    "    print(value)"
   ]
  },
  {
   "cell_type": "code",
   "execution_count": 33,
   "metadata": {},
   "outputs": [
    {
     "data": {
      "text/plain": [
       "['a', 300, 'python', 56.2]"
      ]
     },
     "execution_count": 33,
     "metadata": {},
     "output_type": "execute_result"
    }
   ],
   "source": [
    "li2 = list()\n",
    "li2.append('a')\n",
    "li2.append(300)\n",
    "li2.append('python')\n",
    "li2.append(56.2)\n",
    "li2"
   ]
  },
  {
   "cell_type": "markdown",
   "metadata": {},
   "source": [
    "#### dict\n",
    "-mapping(key,value)\n",
    "-key 不可以重複\n"
   ]
  },
  {
   "cell_type": "code",
   "execution_count": 34,
   "metadata": {},
   "outputs": [
    {
     "data": {
      "text/plain": [
       "{'tw': 'taiwan', 'jp': 'japan'}"
      ]
     },
     "execution_count": 34,
     "metadata": {},
     "output_type": "execute_result"
    }
   ],
   "source": [
    "codes = {'tw':'taiwan',\n",
    "         'jp':'japan'}\n",
    "codes"
   ]
  },
  {
   "cell_type": "code",
   "execution_count": 35,
   "metadata": {},
   "outputs": [
    {
     "name": "stdout",
     "output_type": "stream",
     "text": [
      "taiwan\n",
      "japan\n"
     ]
    }
   ],
   "source": [
    "#取出值\n",
    "print(codes['tw'])\n",
    "print(codes['jp'])"
   ]
  },
  {
   "cell_type": "code",
   "execution_count": 36,
   "metadata": {},
   "outputs": [
    {
     "data": {
      "text/plain": [
       "{'tw': 'taiwan', 'jp': 'japan', 'hk': 'hong kong'}"
      ]
     },
     "execution_count": 36,
     "metadata": {},
     "output_type": "execute_result"
    }
   ],
   "source": [
    "#新增元素\n",
    "codes['hk'] = 'hong kong'\n",
    "codes"
   ]
  },
  {
   "cell_type": "code",
   "execution_count": 37,
   "metadata": {},
   "outputs": [
    {
     "data": {
      "text/plain": [
       "{}"
      ]
     },
     "execution_count": 37,
     "metadata": {},
     "output_type": "execute_result"
    }
   ],
   "source": [
    "#建立空的dict\n",
    "dict1 = dict()\n",
    "dict1"
   ]
  },
  {
   "cell_type": "code",
   "execution_count": 39,
   "metadata": {},
   "outputs": [
    {
     "name": "stdout",
     "output_type": "stream",
     "text": [
      "tw\n",
      "jp\n",
      "hk\n"
     ]
    }
   ],
   "source": [
    "for item in codes:\n",
    "    print(item)"
   ]
  },
  {
   "cell_type": "code",
   "execution_count": 40,
   "metadata": {},
   "outputs": [
    {
     "name": "stdout",
     "output_type": "stream",
     "text": [
      "taiwan\n",
      "japan\n",
      "hong kong\n"
     ]
    }
   ],
   "source": [
    "for key in codes:\n",
    "    print(codes[key])"
   ]
  },
  {
   "cell_type": "code",
   "execution_count": null,
   "metadata": {},
   "outputs": [],
   "source": [
    "#tuple拆解法\n",
    "(n, m) = (10, 20)\n",
    "n\n",
    "m"
   ]
  },
  {
   "cell_type": "code",
   "execution_count": null,
   "metadata": {},
   "outputs": [],
   "source": []
  }
 ],
 "metadata": {
  "kernelspec": {
   "display_name": "chihllee_sql",
   "language": "python",
   "name": "python3"
  },
  "language_info": {
   "codemirror_mode": {
    "name": "ipython",
    "version": 3
   },
   "file_extension": ".py",
   "mimetype": "text/x-python",
   "name": "python",
   "nbconvert_exporter": "python",
   "pygments_lexer": "ipython3",
   "version": "3.10.15"
  }
 },
 "nbformat": 4,
 "nbformat_minor": 2
}
