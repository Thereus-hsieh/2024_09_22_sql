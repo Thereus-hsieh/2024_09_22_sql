{
 "cells": [
  {
   "cell_type": "code",
   "execution_count": 7,
   "metadata": {},
   "outputs": [
    {
     "data": {
      "text/plain": [
       "psycopg2.extensions.connection"
      ]
     },
     "execution_count": 7,
     "metadata": {},
     "output_type": "execute_result"
    }
   ],
   "source": [
    "import psycopg2\n",
    "conn= psycopg2.connect(\n",
    "    host='192.168.0.252',\n",
    "    database='mydatabase_a22',\n",
    "    user='a22',\n",
    "    password='raspberry',\n",
    "    port='5432') \n",
    "type(conn)"
   ]
  },
  {
   "cell_type": "code",
   "execution_count": 2,
   "metadata": {},
   "outputs": [
    {
     "name": "stdout",
     "output_type": "stream",
     "text": [
      "<connection object at 0x000001FDF1485BE0; dsn: 'user=a22 password=xxx dbname=mydatabase_a22 host=192.168.0.252 port=5432', closed: 0>\n"
     ]
    }
   ],
   "source": [
    "print(conn)"
   ]
  },
  {
   "cell_type": "code",
   "execution_count": 8,
   "metadata": {},
   "outputs": [],
   "source": [
    "sql1 = '''CREATE TABLE IF NOT EXISTS 市場(\n",
    "\tname VARCHAR(20),\n",
    "\tcountry VARCHAR(20),\n",
    "\tPRIMARY KEY(name)\n",
    ");'''\n",
    "\n",
    "cursor = conn.cursor()\n",
    "cursor.execute(sql1)\n",
    "\n",
    "\n",
    "sql1 = '''CREATE TABLE IF NOT EXISTS 股市(\n",
    "\tstock_id SERIAL,\n",
    "\tdate DATE,\n",
    "\topen NUMERIC(17,10),\n",
    "\thigh NUMERIC(17,10),\n",
    "\tlow NUMERIC(17,10),\n",
    "\tclose NUMERIC(17,10),\n",
    "\tadj_close NUMERIC(17,10),\n",
    "\tvolume BIGINT DEFAULT 0,\n",
    "\tname VARCHAR(20),\n",
    "\tPRIMARY KEY(stock_id),\n",
    "\tFOREIGN KEY(name) REFERENCES 市場(name) \n",
    "\tON DELETE NO ACTION\n",
    "\tON UPDATE CASCADE\n",
    ");'''\n",
    "cursor.execute(sql1)\n",
    "conn.commit()\n",
    "\n",
    "cursor.close()\n",
    "conn.close()\n",
    "\n"
   ]
  },
  {
   "cell_type": "code",
   "execution_count": null,
   "metadata": {},
   "outputs": [],
   "source": [
    "#用with 如果沒錯就commit,錯了就reback\n",
    "import psycopg2\n",
    "conn= psycopg2.connect(\n",
    "    host='192.168.0.252',\n",
    "    database='mydatabase_a22',\n",
    "    user='a22',\n",
    "    password='raspberry',\n",
    "    port='5432') \n",
    "\n",
    "with conn:\n",
    "    with conn.cursor() as cursor:\n",
    "        sql = '''CREATE TABLE IF NOT EXISTS 市場(\n",
    "\t    name VARCHAR(20),\n",
    "\t    country VARCHAR(20),\n",
    "\t    PRIMARY KEY(name)\n",
    "        );'''\n",
    "        cursor.execute(sql)\n",
    "    \n",
    "    with conn.cursor() as cursor:\n",
    "        sql = '''CREATE TABLE IF NOT EXISTS 股市(\n",
    "        stock_id SERIAL,\n",
    "        date DATE,\n",
    "        open NUMERIC(17,10),\n",
    "        high NUMERIC(17,10),\n",
    "        low NUMERIC(17,10),\n",
    "        close NUMERIC(17,10),\n",
    "        adj_close NUMERIC(17,10),\n",
    "        volume BIGINT DEFAULT 0,\n",
    "        name VARCHAR(20),\n",
    "        PRIMARY KEY(stock_id),\n",
    "        FOREIGN KEY(name) REFERENCES 市場(name) \n",
    "        ON DELETE NO ACTION\n",
    "        ON UPDATE CASCADE\n",
    "        );'''\n",
    "        cursor.execute(sql)\n",
    "    \n",
    "conn.close()\n",
    "\n",
    "\n",
    "\n"
   ]
  }
 ],
 "metadata": {
  "kernelspec": {
   "display_name": "chihllee_sql",
   "language": "python",
   "name": "python3"
  },
  "language_info": {
   "codemirror_mode": {
    "name": "ipython",
    "version": 3
   },
   "file_extension": ".py",
   "mimetype": "text/x-python",
   "name": "python",
   "nbconvert_exporter": "python",
   "pygments_lexer": "ipython3",
   "version": "3.10.15"
  }
 },
 "nbformat": 4,
 "nbformat_minor": 2
}
